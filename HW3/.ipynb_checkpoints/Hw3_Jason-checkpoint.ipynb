{
 "cells": [
  {
   "cell_type": "markdown",
   "metadata": {},
   "source": [
    "# Data Science Assignment #3"
   ]
  },
  {
   "cell_type": "markdown",
   "metadata": {
    "collapsed": true
   },
   "source": [
    "## Background\n",
    "This assignment investigates bank stock prices. The dataset online Bank-StocksMerged.txt\n",
    "provides stock prices for a sample of banks. Some of the banks in the\n",
    "sample go back to 1900 and others are more recent (up to 2017). The data include\n",
    "the date the stock price was recorded, the bank’s stock ticker, OHLC (open, high, low,\n",
    "close) prices, and volume. Note that the historical data points (typically before 1975)\n",
    "record monthly, whereas after the data points are daily."
   ]
  },
  {
   "cell_type": "markdown",
   "metadata": {},
   "source": [
    "# 1) Import libraries"
   ]
  },
  {
   "cell_type": "code",
   "execution_count": 1,
   "metadata": {},
   "outputs": [],
   "source": [
    "import pandas as pd\n",
    "import matplotlib as plt\n",
    "%matplotlib inline"
   ]
  },
  {
   "cell_type": "markdown",
   "metadata": {},
   "source": [
    "# 2) Import the Data"
   ]
  },
  {
   "cell_type": "code",
   "execution_count": 2,
   "metadata": {},
   "outputs": [
    {
     "data": {
      "text/html": [
       "<div>\n",
       "<style>\n",
       "    .dataframe thead tr:only-child th {\n",
       "        text-align: right;\n",
       "    }\n",
       "\n",
       "    .dataframe thead th {\n",
       "        text-align: left;\n",
       "    }\n",
       "\n",
       "    .dataframe tbody tr th {\n",
       "        vertical-align: top;\n",
       "    }\n",
       "</style>\n",
       "<table border=\"1\" class=\"dataframe\">\n",
       "  <thead>\n",
       "    <tr style=\"text-align: right;\">\n",
       "      <th></th>\n",
       "      <th>Date</th>\n",
       "      <th>Ticker</th>\n",
       "      <th>Open</th>\n",
       "      <th>High</th>\n",
       "      <th>Low</th>\n",
       "      <th>Close</th>\n",
       "      <th>Volume</th>\n",
       "    </tr>\n",
       "  </thead>\n",
       "  <tbody>\n",
       "    <tr>\n",
       "      <th>0</th>\n",
       "      <td>5/19/94</td>\n",
       "      <td>ABCB</td>\n",
       "      <td>5.064261</td>\n",
       "      <td>5.368117</td>\n",
       "      <td>5.064261</td>\n",
       "      <td>5.266831</td>\n",
       "      <td>1347.679366</td>\n",
       "    </tr>\n",
       "    <tr>\n",
       "      <th>1</th>\n",
       "      <td>5/20/94</td>\n",
       "      <td>ABCB</td>\n",
       "      <td>5.165546</td>\n",
       "      <td>5.368117</td>\n",
       "      <td>5.064261</td>\n",
       "      <td>5.266831</td>\n",
       "      <td>545.489267</td>\n",
       "    </tr>\n",
       "    <tr>\n",
       "      <th>2</th>\n",
       "      <td>5/23/94</td>\n",
       "      <td>ABCB</td>\n",
       "      <td>5.266831</td>\n",
       "      <td>5.266831</td>\n",
       "      <td>5.064261</td>\n",
       "      <td>5.064261</td>\n",
       "      <td>167.842851</td>\n",
       "    </tr>\n",
       "    <tr>\n",
       "      <th>3</th>\n",
       "      <td>5/24/94</td>\n",
       "      <td>ABCB</td>\n",
       "      <td>5.266831</td>\n",
       "      <td>5.266831</td>\n",
       "      <td>5.064261</td>\n",
       "      <td>5.064261</td>\n",
       "      <td>78.984871</td>\n",
       "    </tr>\n",
       "    <tr>\n",
       "      <th>4</th>\n",
       "      <td>5/25/94</td>\n",
       "      <td>ABCB</td>\n",
       "      <td>5.165546</td>\n",
       "      <td>5.165546</td>\n",
       "      <td>5.064261</td>\n",
       "      <td>5.064261</td>\n",
       "      <td>135.755247</td>\n",
       "    </tr>\n",
       "  </tbody>\n",
       "</table>\n",
       "</div>"
      ],
      "text/plain": [
       "      Date Ticker      Open      High       Low     Close       Volume\n",
       "0  5/19/94   ABCB  5.064261  5.368117  5.064261  5.266831  1347.679366\n",
       "1  5/20/94   ABCB  5.165546  5.368117  5.064261  5.266831   545.489267\n",
       "2  5/23/94   ABCB  5.266831  5.266831  5.064261  5.064261   167.842851\n",
       "3  5/24/94   ABCB  5.266831  5.266831  5.064261  5.064261    78.984871\n",
       "4  5/25/94   ABCB  5.165546  5.165546  5.064261  5.064261   135.755247"
      ]
     },
     "execution_count": 2,
     "metadata": {},
     "output_type": "execute_result"
    }
   ],
   "source": [
    "df = pd.read_csv('bank-stocks-merged.csv')\n",
    "df = df.rename(columns={'?Date': 'Date'})\n",
    "df.head()"
   ]
  },
  {
   "cell_type": "code",
   "execution_count": 3,
   "metadata": {},
   "outputs": [
    {
     "data": {
      "text/html": [
       "<div>\n",
       "<style>\n",
       "    .dataframe thead tr:only-child th {\n",
       "        text-align: right;\n",
       "    }\n",
       "\n",
       "    .dataframe thead th {\n",
       "        text-align: left;\n",
       "    }\n",
       "\n",
       "    .dataframe tbody tr th {\n",
       "        vertical-align: top;\n",
       "    }\n",
       "</style>\n",
       "<table border=\"1\" class=\"dataframe\">\n",
       "  <thead>\n",
       "    <tr style=\"text-align: right;\">\n",
       "      <th></th>\n",
       "      <th>Open</th>\n",
       "      <th>High</th>\n",
       "      <th>Low</th>\n",
       "      <th>Close</th>\n",
       "      <th>Volume</th>\n",
       "    </tr>\n",
       "  </thead>\n",
       "  <tbody>\n",
       "    <tr>\n",
       "      <th>count</th>\n",
       "      <td>653006.000000</td>\n",
       "      <td>653006.000000</td>\n",
       "      <td>653006.000000</td>\n",
       "      <td>653006.000000</td>\n",
       "      <td>6.530060e+05</td>\n",
       "    </tr>\n",
       "    <tr>\n",
       "      <th>mean</th>\n",
       "      <td>55.259570</td>\n",
       "      <td>58.959899</td>\n",
       "      <td>54.972648</td>\n",
       "      <td>55.267934</td>\n",
       "      <td>3.036887e+03</td>\n",
       "    </tr>\n",
       "    <tr>\n",
       "      <th>std</th>\n",
       "      <td>321.545042</td>\n",
       "      <td>511.748469</td>\n",
       "      <td>321.206919</td>\n",
       "      <td>321.531949</td>\n",
       "      <td>8.382849e+04</td>\n",
       "    </tr>\n",
       "    <tr>\n",
       "      <th>min</th>\n",
       "      <td>0.000000</td>\n",
       "      <td>0.000000</td>\n",
       "      <td>0.000000</td>\n",
       "      <td>0.000000</td>\n",
       "      <td>0.000000e+00</td>\n",
       "    </tr>\n",
       "    <tr>\n",
       "      <th>25%</th>\n",
       "      <td>7.200000</td>\n",
       "      <td>7.333333</td>\n",
       "      <td>7.063953</td>\n",
       "      <td>7.200000</td>\n",
       "      <td>0.000000e+00</td>\n",
       "    </tr>\n",
       "    <tr>\n",
       "      <th>50%</th>\n",
       "      <td>14.625000</td>\n",
       "      <td>14.876033</td>\n",
       "      <td>14.500000</td>\n",
       "      <td>14.630431</td>\n",
       "      <td>1.000000e+01</td>\n",
       "    </tr>\n",
       "    <tr>\n",
       "      <th>75%</th>\n",
       "      <td>25.190000</td>\n",
       "      <td>25.340000</td>\n",
       "      <td>25.060000</td>\n",
       "      <td>25.200000</td>\n",
       "      <td>1.448163e+02</td>\n",
       "    </tr>\n",
       "    <tr>\n",
       "      <th>max</th>\n",
       "      <td>7500.000000</td>\n",
       "      <td>50000.000000</td>\n",
       "      <td>7500.000000</td>\n",
       "      <td>7500.000000</td>\n",
       "      <td>1.226600e+07</td>\n",
       "    </tr>\n",
       "  </tbody>\n",
       "</table>\n",
       "</div>"
      ],
      "text/plain": [
       "                Open           High            Low          Close  \\\n",
       "count  653006.000000  653006.000000  653006.000000  653006.000000   \n",
       "mean       55.259570      58.959899      54.972648      55.267934   \n",
       "std       321.545042     511.748469     321.206919     321.531949   \n",
       "min         0.000000       0.000000       0.000000       0.000000   \n",
       "25%         7.200000       7.333333       7.063953       7.200000   \n",
       "50%        14.625000      14.876033      14.500000      14.630431   \n",
       "75%        25.190000      25.340000      25.060000      25.200000   \n",
       "max      7500.000000   50000.000000    7500.000000    7500.000000   \n",
       "\n",
       "             Volume  \n",
       "count  6.530060e+05  \n",
       "mean   3.036887e+03  \n",
       "std    8.382849e+04  \n",
       "min    0.000000e+00  \n",
       "25%    0.000000e+00  \n",
       "50%    1.000000e+01  \n",
       "75%    1.448163e+02  \n",
       "max    1.226600e+07  "
      ]
     },
     "execution_count": 3,
     "metadata": {},
     "output_type": "execute_result"
    }
   ],
   "source": [
    "df.describe()"
   ]
  },
  {
   "cell_type": "markdown",
   "metadata": {},
   "source": [
    "# 3) Plot Returns"
   ]
  },
  {
   "cell_type": "markdown",
   "metadata": {},
   "source": [
    "Suppose this sample of firms is an index. Filter the sample to observations that\n",
    "record daily data from 2000-present. Calculate average daily returns for banks\n",
    "during that period. (Hint: first compute daily returns using the closing price\n",
    "for each bank, then take the average for that day)."
   ]
  },
  {
   "cell_type": "code",
   "execution_count": 49,
   "metadata": {},
   "outputs": [
    {
     "data": {
      "text/html": [
       "<div>\n",
       "<style>\n",
       "    .dataframe thead tr:only-child th {\n",
       "        text-align: right;\n",
       "    }\n",
       "\n",
       "    .dataframe thead th {\n",
       "        text-align: left;\n",
       "    }\n",
       "\n",
       "    .dataframe tbody tr th {\n",
       "        vertical-align: top;\n",
       "    }\n",
       "</style>\n",
       "<table border=\"1\" class=\"dataframe\">\n",
       "  <thead>\n",
       "    <tr style=\"text-align: right;\">\n",
       "      <th></th>\n",
       "      <th>Date</th>\n",
       "      <th>Ticker</th>\n",
       "      <th>Open</th>\n",
       "      <th>High</th>\n",
       "      <th>Low</th>\n",
       "      <th>Close</th>\n",
       "      <th>Volume</th>\n",
       "    </tr>\n",
       "  </thead>\n",
       "  <tbody>\n",
       "    <tr>\n",
       "      <th>0</th>\n",
       "      <td>5/19/94</td>\n",
       "      <td>ABCB</td>\n",
       "      <td>5.064261</td>\n",
       "      <td>5.368117</td>\n",
       "      <td>5.064261</td>\n",
       "      <td>5.266831</td>\n",
       "      <td>1347.679366</td>\n",
       "    </tr>\n",
       "    <tr>\n",
       "      <th>1</th>\n",
       "      <td>5/20/94</td>\n",
       "      <td>ABCB</td>\n",
       "      <td>5.165546</td>\n",
       "      <td>5.368117</td>\n",
       "      <td>5.064261</td>\n",
       "      <td>5.266831</td>\n",
       "      <td>545.489267</td>\n",
       "    </tr>\n",
       "    <tr>\n",
       "      <th>2</th>\n",
       "      <td>5/23/94</td>\n",
       "      <td>ABCB</td>\n",
       "      <td>5.266831</td>\n",
       "      <td>5.266831</td>\n",
       "      <td>5.064261</td>\n",
       "      <td>5.064261</td>\n",
       "      <td>167.842851</td>\n",
       "    </tr>\n",
       "    <tr>\n",
       "      <th>3</th>\n",
       "      <td>5/24/94</td>\n",
       "      <td>ABCB</td>\n",
       "      <td>5.266831</td>\n",
       "      <td>5.266831</td>\n",
       "      <td>5.064261</td>\n",
       "      <td>5.064261</td>\n",
       "      <td>78.984871</td>\n",
       "    </tr>\n",
       "    <tr>\n",
       "      <th>4</th>\n",
       "      <td>5/25/94</td>\n",
       "      <td>ABCB</td>\n",
       "      <td>5.165546</td>\n",
       "      <td>5.165546</td>\n",
       "      <td>5.064261</td>\n",
       "      <td>5.064261</td>\n",
       "      <td>135.755247</td>\n",
       "    </tr>\n",
       "  </tbody>\n",
       "</table>\n",
       "</div>"
      ],
      "text/plain": [
       "      Date Ticker      Open      High       Low     Close       Volume\n",
       "0  5/19/94   ABCB  5.064261  5.368117  5.064261  5.266831  1347.679366\n",
       "1  5/20/94   ABCB  5.165546  5.368117  5.064261  5.266831   545.489267\n",
       "2  5/23/94   ABCB  5.266831  5.266831  5.064261  5.064261   167.842851\n",
       "3  5/24/94   ABCB  5.266831  5.266831  5.064261  5.064261    78.984871\n",
       "4  5/25/94   ABCB  5.165546  5.165546  5.064261  5.064261   135.755247"
      ]
     },
     "execution_count": 49,
     "metadata": {},
     "output_type": "execute_result"
    }
   ],
   "source": [
    "df.query"
   ]
  },
  {
   "cell_type": "code",
   "execution_count": null,
   "metadata": {},
   "outputs": [],
   "source": [
    "df[\"Daily Return\"] = df[\"Close\"] - df[\"Open\"]"
   ]
  },
  {
   "cell_type": "markdown",
   "metadata": {},
   "source": [
    "# 4) More Plotting\n",
    "Suppose you are interested in the historical data. Since these data are monthly,\n",
    "calculate average monthly returns for banks from 1940-present. (Hint: use\n",
    "closing prices at the end of each month). Plot the returns"
   ]
  },
  {
   "cell_type": "code",
   "execution_count": null,
   "metadata": {
    "collapsed": true
   },
   "outputs": [],
   "source": []
  }
 ],
 "metadata": {
  "kernelspec": {
   "display_name": "Python [Root]",
   "language": "python",
   "name": "Python [Root]"
  },
  "language_info": {
   "codemirror_mode": {
    "name": "ipython",
    "version": 3
   },
   "file_extension": ".py",
   "mimetype": "text/x-python",
   "name": "python",
   "nbconvert_exporter": "python",
   "pygments_lexer": "ipython3",
   "version": "3.5.3"
  }
 },
 "nbformat": 4,
 "nbformat_minor": 2
}
