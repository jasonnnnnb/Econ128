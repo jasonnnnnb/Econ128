{
 "cells": [
  {
   "cell_type": "markdown",
   "metadata": {},
   "source": [
    "# Numpy\n",
    "Provides various utilities functions on top of N-dimensional array such statistical calculation (.mean(), .std()) and vectorized operation.\n",
    "A numpy array is a N-dimensional array, all of the same type, and is indexed by nonnegative integers. The number of dimensions is the rank of the array; the shape of an array is a tuple of integers giving the size of the array along each dimension.\n",
    "We can initialize numpy arrays from nested Python lists, and access elements using square brackets:"
   ]
  },
  {
   "cell_type": "code",
   "execution_count": null,
   "metadata": {
    "collapsed": true
   },
   "outputs": [],
   "source": [
    "from numpy import *\n",
    "\n",
    "a = arange(15).reshape(3, 5)\n",
    "print a\n",
    "\n",
    "print \"Type of a:\", type(a)\n",
    "print \"Shape of a:\", a.shape\n",
    "print \"# dimensions:\", a.ndim\n",
    "print \"datatype of elements in a:\", a.dtype.name\n",
    "print \"# of elements:\", a.size\n",
    "\n",
    "b = array([6,7,8])\n",
    "print \"Type of b:\", type(b)\n",
    "\n",
    "print \"1st elem in b:\", b[0] # print first element in b"
   ]
  },
  {
   "cell_type": "markdown",
   "metadata": {},
   "source": [
    "# Array Creation"
   ]
  },
  {
   "cell_type": "markdown",
   "metadata": {},
   "source": [
    "Numpy also provides many functions to create arrays. You can also read more about array creation here : https://docs.scipy.org/doc/numpy/user/basics.creation.html#arrays-creation"
   ]
  },
  {
   "cell_type": "code",
   "execution_count": null,
   "metadata": {
    "collapsed": true
   },
   "outputs": [],
   "source": [
    "a = np.zeros((2,2))   # Create an array of all zeros\n",
    "print \"a:\\n\", a\n",
    "\n",
    "b = np.ones((1,2))    # Create an array of all ones\n",
    "print \"b:\\n\", b\n",
    "\n",
    "c = np.full((2,2), 7)  # Create an array with a constant\n",
    "print \"c:\\n\", c\n",
    "\n",
    "d = np.eye(2)         # Create a 2x2 identity matrix\n",
    "print \"d:\\n\", d\n",
    "\n",
    "e = np.random.random((2,2))  # Create an array filled with random values\n",
    "print \"e:\\n\", e"
   ]
  },
  {
   "cell_type": "markdown",
   "metadata": {},
   "source": [
    "# Array indexing\n",
    "\n",
    "Numpy offers several ways to index into arrays.\n",
    "Slicing: Similar to Python lists, numpy arrays can be sliced. Since arrays may be multidimensional, you must specify a slice for each dimension of the array:"
   ]
  },
  {
   "cell_type": "code",
   "execution_count": null,
   "metadata": {
    "collapsed": true
   },
   "outputs": [],
   "source": []
  }
 ],
 "metadata": {
  "kernelspec": {
   "display_name": "Python 2",
   "language": "python",
   "name": "python2"
  },
  "language_info": {
   "codemirror_mode": {
    "name": "ipython",
    "version": 2
   },
   "file_extension": ".py",
   "mimetype": "text/x-python",
   "name": "python",
   "nbconvert_exporter": "python",
   "pygments_lexer": "ipython2",
   "version": "2.7.6"
  }
 },
 "nbformat": 4,
 "nbformat_minor": 0
}
