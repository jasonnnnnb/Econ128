{
 "cells": [
  {
   "cell_type": "markdown",
   "metadata": {},
   "source": [
    "# Import libraries"
   ]
  },
  {
   "cell_type": "code",
   "execution_count": 3,
   "metadata": {
    "collapsed": false
   },
   "outputs": [],
   "source": [
    "import pandas as pd\n",
    "import numpy as np\n",
    "import matplotlib.pyplot as plt\n",
    "from urllib import urlopen\n",
    "from matplotlib import rcParams\n",
    "%matplotlib inline"
   ]
  },
  {
   "cell_type": "markdown",
   "metadata": {},
   "source": [
    "# Import dataset"
   ]
  },
  {
   "cell_type": "code",
   "execution_count": 4,
   "metadata": {
    "collapsed": false
   },
   "outputs": [],
   "source": [
    "fileGit = urlopen('https://raw.githubusercontent.com/msalloum/econ128/master/Homeworks/HW1/bank-data.csv')\n",
    "df = pd.read_csv(fileGit, sep=',', error_bad_lines=False)"
   ]
  },
  {
   "cell_type": "markdown",
   "metadata": {},
   "source": [
    "# Helper functions and variables"
   ]
  },
  {
   "cell_type": "code",
   "execution_count": 5,
   "metadata": {
    "collapsed": true
   },
   "outputs": [],
   "source": [
    "people = len(df[\"id\"])\n",
    "\n",
    "def computeDist(column):\n",
    "    \"\"\"\n",
    "    Computes distribution for categorical variables.\n",
    "    Input: column\n",
    "    Output: Prints dictionary\n",
    "    \"\"\"\n",
    "    dic = {}\n",
    "    for person in range(people):\n",
    "        if df[column][person] not in dic:\n",
    "            dic[df[column][person]] = 1\n",
    "        else:\n",
    "            dic[df[column][person]] += 1\n",
    "\n",
    "    print \"\\n%s distribution:\" % (column.title())\n",
    "    print dic\n",
    "\n",
    "def remove_border(axes=None, top=False, right=False, \n",
    "                  left=True, bottom=True):\n",
    "    #credit: Professor Salloum\n",
    "    \"\"\"\n",
    "    Minimize chartjunk by stripping out unnecesasry plot\n",
    "    borders and axis ticks\n",
    "    \n",
    "    The top/right/left/bottom keywords toggle whether the \n",
    "    corresponding plot border is drawn\n",
    "    \"\"\"\n",
    "    ax = axes or plt.gca()\n",
    "    ax.spines['top'].set_visible(top)\n",
    "    ax.spines['right'].set_visible(right)\n",
    "    ax.spines['left'].set_visible(left)\n",
    "    ax.spines['bottom'].set_visible(bottom)\n",
    "    \n",
    "    #turn off all ticks\n",
    "    ax.yaxis.set_ticks_position('none')\n",
    "    ax.xaxis.set_ticks_position('none')\n",
    "    \n",
    "    #now re-enable visibles\n",
    "    if top:\n",
    "        ax.xaxis.tick_top()\n",
    "    if bottom:\n",
    "        ax.xaxis.tick_bottom()\n",
    "    if left:\n",
    "        ax.yaxis.tick_left()\n",
    "    if right:\n",
    "        ax.yaxis.tick_right()"
   ]
  },
  {
   "cell_type": "markdown",
   "metadata": {},
   "source": [
    "# 1. Data Exploration\n",
    "Explore the general characteristics of the data as a whole: examine the means, standard deviations, and other statistics associated with the numerical attributes; show the distributions\n",
    "of values associated with categorical attributes; etc."
   ]
  },
  {
   "cell_type": "code",
   "execution_count": 6,
   "metadata": {
    "collapsed": false,
    "scrolled": false
   },
   "outputs": [
    {
     "data": {
      "text/html": [
       "<div>\n",
       "<table border=\"1\" class=\"dataframe\">\n",
       "  <thead>\n",
       "    <tr style=\"text-align: right;\">\n",
       "      <th></th>\n",
       "      <th>id</th>\n",
       "      <th>age</th>\n",
       "      <th>sex</th>\n",
       "      <th>region</th>\n",
       "      <th>income</th>\n",
       "      <th>married</th>\n",
       "      <th>children</th>\n",
       "      <th>car</th>\n",
       "      <th>save_act</th>\n",
       "      <th>current_act</th>\n",
       "      <th>mortgage</th>\n",
       "      <th>pep</th>\n",
       "    </tr>\n",
       "  </thead>\n",
       "  <tbody>\n",
       "    <tr>\n",
       "      <th>0</th>\n",
       "      <td>ID12101</td>\n",
       "      <td>48</td>\n",
       "      <td>FEMALE</td>\n",
       "      <td>INNER_CITY</td>\n",
       "      <td>17546.0</td>\n",
       "      <td>NO</td>\n",
       "      <td>1</td>\n",
       "      <td>NO</td>\n",
       "      <td>NO</td>\n",
       "      <td>NO</td>\n",
       "      <td>NO</td>\n",
       "      <td>YES</td>\n",
       "    </tr>\n",
       "    <tr>\n",
       "      <th>1</th>\n",
       "      <td>ID12102</td>\n",
       "      <td>40</td>\n",
       "      <td>MALE</td>\n",
       "      <td>TOWN</td>\n",
       "      <td>30085.1</td>\n",
       "      <td>YES</td>\n",
       "      <td>3</td>\n",
       "      <td>YES</td>\n",
       "      <td>NO</td>\n",
       "      <td>YES</td>\n",
       "      <td>YES</td>\n",
       "      <td>NO</td>\n",
       "    </tr>\n",
       "    <tr>\n",
       "      <th>2</th>\n",
       "      <td>ID12103</td>\n",
       "      <td>51</td>\n",
       "      <td>FEMALE</td>\n",
       "      <td>INNER_CITY</td>\n",
       "      <td>16575.4</td>\n",
       "      <td>YES</td>\n",
       "      <td>0</td>\n",
       "      <td>YES</td>\n",
       "      <td>YES</td>\n",
       "      <td>YES</td>\n",
       "      <td>NO</td>\n",
       "      <td>NO</td>\n",
       "    </tr>\n",
       "    <tr>\n",
       "      <th>3</th>\n",
       "      <td>ID12104</td>\n",
       "      <td>23</td>\n",
       "      <td>FEMALE</td>\n",
       "      <td>TOWN</td>\n",
       "      <td>20375.4</td>\n",
       "      <td>YES</td>\n",
       "      <td>3</td>\n",
       "      <td>NO</td>\n",
       "      <td>NO</td>\n",
       "      <td>YES</td>\n",
       "      <td>NO</td>\n",
       "      <td>NO</td>\n",
       "    </tr>\n",
       "    <tr>\n",
       "      <th>4</th>\n",
       "      <td>ID12105</td>\n",
       "      <td>57</td>\n",
       "      <td>FEMALE</td>\n",
       "      <td>RURAL</td>\n",
       "      <td>50576.3</td>\n",
       "      <td>YES</td>\n",
       "      <td>0</td>\n",
       "      <td>NO</td>\n",
       "      <td>YES</td>\n",
       "      <td>NO</td>\n",
       "      <td>NO</td>\n",
       "      <td>NO</td>\n",
       "    </tr>\n",
       "  </tbody>\n",
       "</table>\n",
       "</div>"
      ],
      "text/plain": [
       "        id  age     sex      region   income married  children  car save_act  \\\n",
       "0  ID12101   48  FEMALE  INNER_CITY  17546.0      NO         1   NO       NO   \n",
       "1  ID12102   40    MALE        TOWN  30085.1     YES         3  YES       NO   \n",
       "2  ID12103   51  FEMALE  INNER_CITY  16575.4     YES         0  YES      YES   \n",
       "3  ID12104   23  FEMALE        TOWN  20375.4     YES         3   NO       NO   \n",
       "4  ID12105   57  FEMALE       RURAL  50576.3     YES         0   NO      YES   \n",
       "\n",
       "  current_act mortgage  pep  \n",
       "0          NO       NO  YES  \n",
       "1         YES      YES   NO  \n",
       "2         YES       NO   NO  \n",
       "3         YES       NO   NO  \n",
       "4          NO       NO   NO  "
      ]
     },
     "execution_count": 6,
     "metadata": {},
     "output_type": "execute_result"
    }
   ],
   "source": [
    "#Check out the data\n",
    "df.head()"
   ]
  },
  {
   "cell_type": "code",
   "execution_count": 7,
   "metadata": {
    "collapsed": false
   },
   "outputs": [
    {
     "name": "stdout",
     "output_type": "stream",
     "text": [
      "\n",
      "Sex distribution:\n",
      "{'MALE': 300, 'FEMALE': 300}\n",
      "\n",
      "Region distribution:\n",
      "{'TOWN': 173, 'RURAL': 96, 'SUBURBAN': 62, 'INNER_CITY': 269}\n",
      "\n",
      "Married distribution:\n",
      "{'YES': 396, 'NO': 204}\n",
      "\n",
      "Car distribution:\n",
      "{'YES': 296, 'NO': 304}\n",
      "\n",
      "Save_Act distribution:\n",
      "{'YES': 414, 'NO': 186}\n",
      "\n",
      "Current_Act distribution:\n",
      "{'YES': 455, 'NO': 145}\n",
      "\n",
      "Mortgage distribution:\n",
      "{'YES': 209, 'NO': 391}\n",
      "\n",
      "Pep distribution:\n",
      "{'YES': 274, 'NO': 326}\n",
      "\n",
      "\n",
      "Age Summary Statistics:\n",
      "count    600.000000\n",
      "mean      42.395000\n",
      "std       14.424947\n",
      "min       18.000000\n",
      "25%       30.000000\n",
      "50%       42.000000\n",
      "75%       55.250000\n",
      "max       67.000000\n",
      "Name: age, dtype: float64\n",
      "\n",
      "\n",
      "Income Summary Statistics:\n",
      "count      600.000000\n",
      "mean     27524.031217\n",
      "std      12899.468246\n",
      "min       5014.210000\n",
      "25%      17264.500000\n",
      "50%      24925.300000\n",
      "75%      36172.675000\n",
      "max      63130.100000\n",
      "Name: income, dtype: float64\n",
      "\n",
      "\n",
      "Children Summary Statistics:\n",
      "count    600.000000\n",
      "mean       1.011667\n",
      "std        1.056752\n",
      "min        0.000000\n",
      "25%        0.000000\n",
      "50%        1.000000\n",
      "75%        2.000000\n",
      "max        3.000000\n",
      "Name: children, dtype: float64\n"
     ]
    }
   ],
   "source": [
    "categorical = [\"sex\", \"region\", \"married\", \"car\", \"save_act\", \"current_act\",\n",
    "              \"mortgage\", \"pep\"]\n",
    "numerical = [\"age\", \"income\", \"children\"]\n",
    "\n",
    "for var in categorical:\n",
    "    computeDist(var)\n",
    "    \n",
    "for var in numerical:\n",
    "    print \"\\n\"\n",
    "    print \"%s Summary Statistics:\" % (var.title())\n",
    "    print df[var].describe()\n"
   ]
  },
  {
   "cell_type": "markdown",
   "metadata": {},
   "source": [
    "# 2. PEP Comparison\n",
    "Suppose that because the bank is particularly interested in customers who buy the PEP\n",
    "(Personal Equity Plan) product. Compare and contrast the subsets of customers who buy\n",
    "and don’t buy the PEP. Compute summaries (as in part 1) of the selected data with respect\n",
    "to all other attributes. Can you observe any significant differences between these segments of\n",
    "customers? Discuss your observations."
   ]
  },
  {
   "cell_type": "code",
   "execution_count": 8,
   "metadata": {
    "collapsed": false
   },
   "outputs": [
    {
     "name": "stdout",
     "output_type": "stream",
     "text": [
      "count         600\n",
      "mean     0.456667\n",
      "std      0.498534\n",
      "min         False\n",
      "25%             0\n",
      "50%             0\n",
      "75%             1\n",
      "max          True\n",
      "Name: pep, dtype: object\n",
      "\n",
      "We see that 274 people have purchased the Personal Equity Plan.\n"
     ]
    }
   ],
   "source": [
    "#Calculate 1-var stats for varibale PEP:\n",
    "yes_pep = df[\"pep\"] == \"YES\"\n",
    "print yes_pep.describe()\n",
    "print \"\\nWe see that %d people have purchased the Personal Equity Plan.\" % (yes_pep.mean() * yes_pep.count())"
   ]
  },
  {
   "cell_type": "code",
   "execution_count": 11,
   "metadata": {
    "collapsed": false
   },
   "outputs": [
    {
     "name": "stdout",
     "output_type": "stream",
     "text": [
      "                  age    children        income\n",
      "pep                                            \n",
      "NO  count  326.000000  326.000000    326.000000\n",
      "    mean    40.098160    1.067485  24900.953374\n",
      "    std     14.123506    1.195524  11661.123422\n",
      "    min     18.000000    0.000000   5014.210000\n",
      "    25%     27.000000    0.000000  15366.475000\n",
      "    50%     40.000000    0.000000  23105.000000\n",
      "    75%     51.000000    2.000000  31210.900000\n",
      "    max     67.000000    3.000000  61554.600000\n",
      "YES count  274.000000  274.000000    274.000000\n",
      "    mean    45.127737    0.945255  30644.919453\n",
      "    std     14.327991    0.860571  13609.613043\n",
      "    min     18.000000    0.000000   7756.360000\n",
      "    25%     34.000000    0.000000  19639.475000\n",
      "    50%     45.000000    1.000000  28080.050000\n",
      "    75%     58.000000    1.000000  38458.350000\n",
      "    max     67.000000    3.000000  63130.100000\n",
      "Analysis:\n",
      "\n",
      "The average person who bought the PEP is probably wealthier than someone without it. In terms of income, the average PEP consumer makes about $5000 more. Further, each income percentile is higher for PEP consumers. This makes sense considering that those with the PEP tend to be older. The average PEP consumer is 45 while the average age of a consumer without is 40. Lastly, individuals with the PEP tend to have fewer children. In fact, the 75th percentiles for PEP and no PEP are 1 and 2 children, respectively. Families that are less financially independant tend to have more children, and this data may be evidence. \n"
     ]
    }
   ],
   "source": [
    "#Calculate 2-var stats:\n",
    "\n",
    "pep_groupby = df.groupby('pep')\n",
    "print pep_groupby.describe().head(20)\n",
    "\n",
    "print \"Analysis:\\n\"\n",
    "print \"The average person who bought the PEP is probably wealthier than someone without it. \\\n",
    "In terms of income, the average PEP consumer makes about $5000 more. Further, each income percentile \\\n",
    "is higher for PEP consumers. This makes sense considering that those with the PEP tend to be older. The average \\\n",
    "PEP consumer is 45 while the average age of a consumer without is 40. Lastly, individuals with the PEP tend \\\n",
    "to have fewer children. In fact, the 75th percentiles for PEP and no PEP are 1 and 2 children, respectively. \\\n",
    "Families that are less financially independant tend to have more children, and this data may be evidence. \""
   ]
  },
  {
   "cell_type": "markdown",
   "metadata": {},
   "source": [
    "# 3. Data Organization\n",
    "Discretize the age attribute into 3 categories (corresponding to ”young”, ”mid-age”, and\n",
    "”old”). [Do not change the original age attribute in the table.]"
   ]
  },
  {
   "cell_type": "code",
   "execution_count": 12,
   "metadata": {
    "collapsed": false
   },
   "outputs": [
    {
     "name": "stdout",
     "output_type": "stream",
     "text": [
      "Number of people 35 or younger: 209\n",
      "Number of people between 36 and 52: 222\n",
      "Number of people 53 or older: 169\n"
     ]
    }
   ],
   "source": [
    "ages = {\"young\":0, \"mid-age\":0, \"old\":0}\n",
    "\n",
    "for person in range(people):\n",
    "    if df[\"age\"][person] <= 35:\n",
    "        ages[\"young\"] += 1\n",
    "    elif 36 <= df[\"age\"][person] <= 52:\n",
    "        ages[\"mid-age\"] += 1\n",
    "    else:\n",
    "        ages[\"old\"] += 1\n",
    "\n",
    "print \"Number of people 35 or younger: %d\" % (ages[\"young\"])\n",
    "print \"Number of people between 36 and 52: %d\" % (ages[\"mid-age\"])\n",
    "print \"Number of people 53 or older: %d\" % (ages[\"old\"])"
   ]
  },
  {
   "cell_type": "markdown",
   "metadata": {},
   "source": [
    "# 4. Data Visualization - Scatterplots\n",
    "Using Matplotlib library and/or ploting capabilties of Pandas, create a scatter plot of the\n",
    "Income attribute relative to Age. Be sure that your plot contains appropriate labels for the\n",
    "axes. Do these variables seem correlated?"
   ]
  },
  {
   "cell_type": "code",
   "execution_count": 13,
   "metadata": {
    "collapsed": false,
    "scrolled": false
   },
   "outputs": [
    {
     "data": {
      "image/png": "[encoded data removed]",
      "text/plain": [
       "<matplotlib.figure.Figure at 0x7f3f94d97490>"
      ]
     },
     "metadata": {},
     "output_type": "display_data"
    },
    {
     "name": "stdout",
     "output_type": "stream",
     "text": [
      "Yes, these variables seem very correlated. As age increases, so does salary. In fact, the correlation \n",
      "coefficient between age and income in this sample is 784026447. \n",
      "However, it is worth noting that there is typically a normally distributed relationship between age and income.\n"
     ]
    }
   ],
   "source": [
    "plt.scatter(df[\"age\"], df[\"income\"])\n",
    "plt.xlabel(\"Age\")\n",
    "plt.ylabel(\"Yearly Salary\")\n",
    "plt.title(\"Income Relative to Age\")\n",
    "remove_border()\n",
    "plt.show()\n",
    "\n",
    "print \"Yes, these variables seem very correlated. As age increases, so does salary. In fact, the correlation \\\n",
    "\\ncoefficient between age and income in this sample is %d. \\\n",
    "\\nHowever, it is worth noting that there is typically a normally distributed relationship between age and income.\" %\\\n",
    "(np.correlate(df[\"age\"], df[\"income\"]))"
   ]
  },
  {
   "cell_type": "markdown",
   "metadata": {},
   "source": [
    "# 5. Data Visualization - Histograms\n",
    "Create histograms for Income (using 9 bins) and Age (using 15 bins)."
   ]
  },
  {
   "cell_type": "code",
   "execution_count": 14,
   "metadata": {
    "collapsed": false
   },
   "outputs": [
    {
     "data": {
      "image/png": "[encoded data removed]",
      "text/plain": [
       "<matplotlib.figure.Figure at 0x7f3f94d57b50>"
      ]
     },
     "metadata": {},
     "output_type": "display_data"
    },
    {
     "data": {
      "image/png": "[encoded data removed]",
      "text/plain": [
       "<matplotlib.figure.Figure at 0x7f3f94c6e190>"
      ]
     },
     "metadata": {},
     "output_type": "display_data"
    }
   ],
   "source": [
    "# Create Income histogram\n",
    "plt.hist(df[\"income\"], bins = 9)\n",
    "plt.xlabel(\"Income\")\n",
    "plt.ylabel(\"# of people\")\n",
    "remove_border()\n",
    "plt.show()\n",
    "\n",
    "# Create Age histogram\n",
    "plt.hist(df[\"age\"], bins = 15, color = 'green')\n",
    "plt.xlabel(\"Age\")\n",
    "plt.ylabel(\"# of people\")\n",
    "remove_border()\n",
    "#plt.colors\n",
    "plt.show()"
   ]
  },
  {
   "cell_type": "code",
   "execution_count": null,
   "metadata": {
    "collapsed": true
   },
   "outputs": [],
   "source": []
  }
 ],
 "metadata": {
  "kernelspec": {
   "display_name": "Python 2",
   "language": "python",
   "name": "python2"
  },
  "language_info": {
   "codemirror_mode": {
    "name": "ipython",
    "version": 2
   },
   "file_extension": ".py",
   "mimetype": "text/x-python",
   "name": "python",
   "nbconvert_exporter": "python",
   "pygments_lexer": "ipython2",
   "version": "2.7.6"
  }
 },
 "nbformat": 4,
 "nbformat_minor": 1
}
