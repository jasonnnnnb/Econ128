{
 "cells": [
  {
   "cell_type": "markdown",
   "metadata": {},
   "source": [
    "# Homework 4\n",
    "Jason Barbarosh"
   ]
  },
  {
   "cell_type": "markdown",
   "metadata": {},
   "source": [
    "## The Details\n",
    "This assignment investigates the effect of unemployment on rental prices. There are two datasets:\n",
    "\n",
    "1) Zillow-Rents.txt: \n",
    "This file is taken from Zillow’s research website and is a sum- mary file featuring Zillow’s median rent value by zip code in the United States.\n",
    "\n",
    "2)  IRS-Tax Filing.txt: \n",
    "This file is provided by the IRS. It features data on indi- vidual income tax statistics by zip code. The data include information on the number of returns filed, number of single returns filed, total taxable income, total student loan interest deductions, and total unemployment compensation in each zip code (in thousands)."
   ]
  },
  {
   "cell_type": "markdown",
   "metadata": {},
   "source": [
    "# #1 Import Libraries"
   ]
  },
  {
   "cell_type": "code",
   "execution_count": 5,
   "metadata": {},
   "outputs": [],
   "source": [
    "import matplotlib.pyplot as plt\n",
    "import pandas as pd\n",
    "import numpy as np"
   ]
  },
  {
   "cell_type": "markdown",
   "metadata": {},
   "source": [
    "# #2 Merge Datasets\n",
    "To investigate the topic, you’ll need to merge the two datasets on zip code (be sure to drop any observations with missing data). "
   ]
  },
  {
   "cell_type": "markdown",
   "metadata": {},
   "source": [
    "### Import the datasets"
   ]
  },
  {
   "cell_type": "code",
   "execution_count": 29,
   "metadata": {},
   "outputs": [
    {
     "data": {
      "text/html": [
       "<div>\n",
       "<style>\n",
       "    .dataframe thead tr:only-child th {\n",
       "        text-align: right;\n",
       "    }\n",
       "\n",
       "    .dataframe thead th {\n",
       "        text-align: left;\n",
       "    }\n",
       "\n",
       "    .dataframe tbody tr th {\n",
       "        vertical-align: top;\n",
       "    }\n",
       "</style>\n",
       "<table border=\"1\" class=\"dataframe\">\n",
       "  <thead>\n",
       "    <tr style=\"text-align: right;\">\n",
       "      <th></th>\n",
       "      <th>Zip</th>\n",
       "      <th>State</th>\n",
       "      <th>County</th>\n",
       "      <th>City</th>\n",
       "      <th>ZrentValue</th>\n",
       "    </tr>\n",
       "  </thead>\n",
       "  <tbody>\n",
       "    <tr>\n",
       "      <th>0</th>\n",
       "      <td>10025</td>\n",
       "      <td>NY</td>\n",
       "      <td>New York</td>\n",
       "      <td>New York</td>\n",
       "      <td>3522</td>\n",
       "    </tr>\n",
       "    <tr>\n",
       "      <th>1</th>\n",
       "      <td>60657</td>\n",
       "      <td>IL</td>\n",
       "      <td>Cook</td>\n",
       "      <td>Chicago</td>\n",
       "      <td>1885</td>\n",
       "    </tr>\n",
       "    <tr>\n",
       "      <th>2</th>\n",
       "      <td>10023</td>\n",
       "      <td>NY</td>\n",
       "      <td>New York</td>\n",
       "      <td>New York</td>\n",
       "      <td>3783</td>\n",
       "    </tr>\n",
       "    <tr>\n",
       "      <th>3</th>\n",
       "      <td>60614</td>\n",
       "      <td>IL</td>\n",
       "      <td>Cook</td>\n",
       "      <td>Chicago</td>\n",
       "      <td>2125</td>\n",
       "    </tr>\n",
       "    <tr>\n",
       "      <th>4</th>\n",
       "      <td>79936</td>\n",
       "      <td>TX</td>\n",
       "      <td>El Paso</td>\n",
       "      <td>El Paso</td>\n",
       "      <td>992</td>\n",
       "    </tr>\n",
       "  </tbody>\n",
       "</table>\n",
       "</div>"
      ],
      "text/plain": [
       "     Zip State    County      City  ZrentValue\n",
       "0  10025    NY  New York  New York        3522\n",
       "1  60657    IL      Cook   Chicago        1885\n",
       "2  10023    NY  New York  New York        3783\n",
       "3  60614    IL      Cook   Chicago        2125\n",
       "4  79936    TX   El Paso   El Paso         992"
      ]
     },
     "execution_count": 29,
     "metadata": {},
     "output_type": "execute_result"
    }
   ],
   "source": [
    "zillow = pd.read_csv(\"Zillow-Rents.csv\", header = 0, encoding='utf-8')\n",
    "zillow.head()"
   ]
  },
  {
   "cell_type": "code",
   "execution_count": 30,
   "metadata": {},
   "outputs": [
    {
     "data": {
      "text/html": [
       "<div>\n",
       "<style>\n",
       "    .dataframe thead tr:only-child th {\n",
       "        text-align: right;\n",
       "    }\n",
       "\n",
       "    .dataframe thead th {\n",
       "        text-align: left;\n",
       "    }\n",
       "\n",
       "    .dataframe tbody tr th {\n",
       "        vertical-align: top;\n",
       "    }\n",
       "</style>\n",
       "<table border=\"1\" class=\"dataframe\">\n",
       "  <thead>\n",
       "    <tr style=\"text-align: right;\">\n",
       "      <th></th>\n",
       "      <th>Zip</th>\n",
       "      <th>ZrentValue</th>\n",
       "    </tr>\n",
       "  </thead>\n",
       "  <tbody>\n",
       "    <tr>\n",
       "      <th>count</th>\n",
       "      <td>15930.000000</td>\n",
       "      <td>15930.000000</td>\n",
       "    </tr>\n",
       "    <tr>\n",
       "      <th>mean</th>\n",
       "      <td>47602.492216</td>\n",
       "      <td>1512.651099</td>\n",
       "    </tr>\n",
       "    <tr>\n",
       "      <th>std</th>\n",
       "      <td>28938.721498</td>\n",
       "      <td>781.903736</td>\n",
       "    </tr>\n",
       "    <tr>\n",
       "      <th>min</th>\n",
       "      <td>1001.000000</td>\n",
       "      <td>515.000000</td>\n",
       "    </tr>\n",
       "    <tr>\n",
       "      <th>25%</th>\n",
       "      <td>22824.750000</td>\n",
       "      <td>1057.000000</td>\n",
       "    </tr>\n",
       "    <tr>\n",
       "      <th>50%</th>\n",
       "      <td>45339.000000</td>\n",
       "      <td>1303.500000</td>\n",
       "    </tr>\n",
       "    <tr>\n",
       "      <th>75%</th>\n",
       "      <td>74036.750000</td>\n",
       "      <td>1728.000000</td>\n",
       "    </tr>\n",
       "    <tr>\n",
       "      <th>max</th>\n",
       "      <td>99705.000000</td>\n",
       "      <td>16697.000000</td>\n",
       "    </tr>\n",
       "  </tbody>\n",
       "</table>\n",
       "</div>"
      ],
      "text/plain": [
       "                Zip    ZrentValue\n",
       "count  15930.000000  15930.000000\n",
       "mean   47602.492216   1512.651099\n",
       "std    28938.721498    781.903736\n",
       "min     1001.000000    515.000000\n",
       "25%    22824.750000   1057.000000\n",
       "50%    45339.000000   1303.500000\n",
       "75%    74036.750000   1728.000000\n",
       "max    99705.000000  16697.000000"
      ]
     },
     "execution_count": 30,
     "metadata": {},
     "output_type": "execute_result"
    }
   ],
   "source": [
    "zillow.describe()"
   ]
  },
  {
   "cell_type": "code",
   "execution_count": 31,
   "metadata": {},
   "outputs": [
    {
     "data": {
      "text/html": [
       "<div>\n",
       "<style>\n",
       "    .dataframe thead tr:only-child th {\n",
       "        text-align: right;\n",
       "    }\n",
       "\n",
       "    .dataframe thead th {\n",
       "        text-align: left;\n",
       "    }\n",
       "\n",
       "    .dataframe tbody tr th {\n",
       "        vertical-align: top;\n",
       "    }\n",
       "</style>\n",
       "<table border=\"1\" class=\"dataframe\">\n",
       "  <thead>\n",
       "    <tr style=\"text-align: right;\">\n",
       "      <th></th>\n",
       "      <th>Zip</th>\n",
       "      <th>NoReturns</th>\n",
       "      <th>SingleReturns</th>\n",
       "      <th>UnempComp</th>\n",
       "      <th>StudentLoanDeductions</th>\n",
       "      <th>TaxableIncome</th>\n",
       "    </tr>\n",
       "  </thead>\n",
       "  <tbody>\n",
       "    <tr>\n",
       "      <th>0</th>\n",
       "      <td>0</td>\n",
       "      <td>259540</td>\n",
       "      <td>75820</td>\n",
       "      <td>27490</td>\n",
       "      <td>29802</td>\n",
       "      <td>10205184</td>\n",
       "    </tr>\n",
       "    <tr>\n",
       "      <th>1</th>\n",
       "      <td>35004</td>\n",
       "      <td>920</td>\n",
       "      <td>280</td>\n",
       "      <td>103</td>\n",
       "      <td>157</td>\n",
       "      <td>36673</td>\n",
       "    </tr>\n",
       "    <tr>\n",
       "      <th>2</th>\n",
       "      <td>35005</td>\n",
       "      <td>460</td>\n",
       "      <td>140</td>\n",
       "      <td>45</td>\n",
       "      <td>66</td>\n",
       "      <td>17559</td>\n",
       "    </tr>\n",
       "    <tr>\n",
       "      <th>3</th>\n",
       "      <td>35006</td>\n",
       "      <td>190</td>\n",
       "      <td>40</td>\n",
       "      <td>55</td>\n",
       "      <td>0</td>\n",
       "      <td>7668</td>\n",
       "    </tr>\n",
       "    <tr>\n",
       "      <th>4</th>\n",
       "      <td>35007</td>\n",
       "      <td>1870</td>\n",
       "      <td>530</td>\n",
       "      <td>174</td>\n",
       "      <td>287</td>\n",
       "      <td>73191</td>\n",
       "    </tr>\n",
       "  </tbody>\n",
       "</table>\n",
       "</div>"
      ],
      "text/plain": [
       "     Zip  NoReturns  SingleReturns  UnempComp  StudentLoanDeductions  \\\n",
       "0      0     259540          75820      27490                  29802   \n",
       "1  35004        920            280        103                    157   \n",
       "2  35005        460            140         45                     66   \n",
       "3  35006        190             40         55                      0   \n",
       "4  35007       1870            530        174                    287   \n",
       "\n",
       "   TaxableIncome  \n",
       "0       10205184  \n",
       "1          36673  \n",
       "2          17559  \n",
       "3           7668  \n",
       "4          73191  "
      ]
     },
     "execution_count": 31,
     "metadata": {},
     "output_type": "execute_result"
    }
   ],
   "source": [
    "irs = pd.read_csv(\"IRS-Tax Filing.csv\", header = 0)\n",
    "irs.head()"
   ]
  },
  {
   "cell_type": "code",
   "execution_count": 32,
   "metadata": {
    "scrolled": true
   },
   "outputs": [
    {
     "data": {
      "text/html": [
       "<div>\n",
       "<style>\n",
       "    .dataframe thead tr:only-child th {\n",
       "        text-align: right;\n",
       "    }\n",
       "\n",
       "    .dataframe thead th {\n",
       "        text-align: left;\n",
       "    }\n",
       "\n",
       "    .dataframe tbody tr th {\n",
       "        vertical-align: top;\n",
       "    }\n",
       "</style>\n",
       "<table border=\"1\" class=\"dataframe\">\n",
       "  <thead>\n",
       "    <tr style=\"text-align: right;\">\n",
       "      <th></th>\n",
       "      <th>Zip</th>\n",
       "      <th>NoReturns</th>\n",
       "      <th>SingleReturns</th>\n",
       "      <th>UnempComp</th>\n",
       "      <th>StudentLoanDeductions</th>\n",
       "      <th>TaxableIncome</th>\n",
       "    </tr>\n",
       "  </thead>\n",
       "  <tbody>\n",
       "    <tr>\n",
       "      <th>count</th>\n",
       "      <td>27787.000000</td>\n",
       "      <td>2.778700e+04</td>\n",
       "      <td>27787.000000</td>\n",
       "      <td>27787.000000</td>\n",
       "      <td>27787.000000</td>\n",
       "      <td>2.778700e+04</td>\n",
       "    </tr>\n",
       "    <tr>\n",
       "      <th>mean</th>\n",
       "      <td>48862.683377</td>\n",
       "      <td>1.406809e+03</td>\n",
       "      <td>540.581567</td>\n",
       "      <td>379.392342</td>\n",
       "      <td>207.010760</td>\n",
       "      <td>5.621844e+04</td>\n",
       "    </tr>\n",
       "    <tr>\n",
       "      <th>std</th>\n",
       "      <td>27142.470204</td>\n",
       "      <td>2.403487e+04</td>\n",
       "      <td>9631.500890</td>\n",
       "      <td>7627.099472</td>\n",
       "      <td>3409.055737</td>\n",
       "      <td>9.552925e+05</td>\n",
       "    </tr>\n",
       "    <tr>\n",
       "      <th>min</th>\n",
       "      <td>0.000000</td>\n",
       "      <td>0.000000e+00</td>\n",
       "      <td>0.000000</td>\n",
       "      <td>0.000000</td>\n",
       "      <td>0.000000</td>\n",
       "      <td>0.000000e+00</td>\n",
       "    </tr>\n",
       "    <tr>\n",
       "      <th>25%</th>\n",
       "      <td>27021.500000</td>\n",
       "      <td>9.000000e+01</td>\n",
       "      <td>30.000000</td>\n",
       "      <td>0.000000</td>\n",
       "      <td>0.000000</td>\n",
       "      <td>3.346000e+03</td>\n",
       "    </tr>\n",
       "    <tr>\n",
       "      <th>50%</th>\n",
       "      <td>48876.000000</td>\n",
       "      <td>2.700000e+02</td>\n",
       "      <td>80.000000</td>\n",
       "      <td>100.000000</td>\n",
       "      <td>37.000000</td>\n",
       "      <td>1.049700e+04</td>\n",
       "    </tr>\n",
       "    <tr>\n",
       "      <th>75%</th>\n",
       "      <td>70585.000000</td>\n",
       "      <td>9.900000e+02</td>\n",
       "      <td>350.000000</td>\n",
       "      <td>232.000000</td>\n",
       "      <td>130.000000</td>\n",
       "      <td>3.935300e+04</td>\n",
       "    </tr>\n",
       "    <tr>\n",
       "      <th>max</th>\n",
       "      <td>99999.000000</td>\n",
       "      <td>2.207030e+06</td>\n",
       "      <td>919390.000000</td>\n",
       "      <td>882844.000000</td>\n",
       "      <td>262982.000000</td>\n",
       "      <td>8.518741e+07</td>\n",
       "    </tr>\n",
       "  </tbody>\n",
       "</table>\n",
       "</div>"
      ],
      "text/plain": [
       "                Zip     NoReturns  SingleReturns      UnempComp  \\\n",
       "count  27787.000000  2.778700e+04   27787.000000   27787.000000   \n",
       "mean   48862.683377  1.406809e+03     540.581567     379.392342   \n",
       "std    27142.470204  2.403487e+04    9631.500890    7627.099472   \n",
       "min        0.000000  0.000000e+00       0.000000       0.000000   \n",
       "25%    27021.500000  9.000000e+01      30.000000       0.000000   \n",
       "50%    48876.000000  2.700000e+02      80.000000     100.000000   \n",
       "75%    70585.000000  9.900000e+02     350.000000     232.000000   \n",
       "max    99999.000000  2.207030e+06  919390.000000  882844.000000   \n",
       "\n",
       "       StudentLoanDeductions  TaxableIncome  \n",
       "count           27787.000000   2.778700e+04  \n",
       "mean              207.010760   5.621844e+04  \n",
       "std              3409.055737   9.552925e+05  \n",
       "min                 0.000000   0.000000e+00  \n",
       "25%                 0.000000   3.346000e+03  \n",
       "50%                37.000000   1.049700e+04  \n",
       "75%               130.000000   3.935300e+04  \n",
       "max            262982.000000   8.518741e+07  "
      ]
     },
     "execution_count": 32,
     "metadata": {},
     "output_type": "execute_result"
    }
   ],
   "source": [
    "irs.describe()"
   ]
  },
  {
   "cell_type": "code",
   "execution_count": null,
   "metadata": {
    "collapsed": true
   },
   "outputs": [],
   "source": []
  },
  {
   "cell_type": "code",
   "execution_count": null,
   "metadata": {
    "collapsed": true
   },
   "outputs": [],
   "source": []
  },
  {
   "cell_type": "code",
   "execution_count": null,
   "metadata": {
    "collapsed": true
   },
   "outputs": [],
   "source": []
  },
  {
   "cell_type": "markdown",
   "metadata": {},
   "source": [
    "# #3 Linear Regression\n",
    "Then, specify a simple linear regression model, where the outcome variable is Zillow’s median rent value and the covariates include an intercept, number of returns filed, number of single returns filed, total taxable income, total student loan interest deductions, and total unemployment compensation. The effect of unemployment compensation on rental prices will give insights into our topic of interest (while controlling for income and other characteristics).\n",
    "(Note: The data feature large numbers. It is recommended that you transform the variables by log(variablei + 1). The “+1” is to deal with values that are 0.) Recall, the simple linear regression model (in matrix notation), y = Xβ + ε, can be estimated using ordinary least squares (OLS)."
   ]
  },
  {
   "cell_type": "code",
   "execution_count": null,
   "metadata": {
    "collapsed": true
   },
   "outputs": [],
   "source": []
  },
  {
   "cell_type": "markdown",
   "metadata": {},
   "source": [
    "### Discussing the Model"
   ]
  },
  {
   "cell_type": "markdown",
   "metadata": {},
   "source": [
    "Please submit the following:\n",
    "• All code and final data\n",
    "• A brief discussion of the model and estimation procedure • Tables of regression results\n",
    "• An analysis and discussion of the findings.\n",
    "Be sure to zip-up the files before submitting online."
   ]
  }
 ],
 "metadata": {
  "kernelspec": {
   "display_name": "Python [Root]",
   "language": "python",
   "name": "Python [Root]"
  },
  "language_info": {
   "codemirror_mode": {
    "name": "ipython",
    "version": 3
   },
   "file_extension": ".py",
   "mimetype": "text/x-python",
   "name": "python",
   "nbconvert_exporter": "python",
   "pygments_lexer": "ipython3",
   "version": "3.5.3"
  }
 },
 "nbformat": 4,
 "nbformat_minor": 2
}
